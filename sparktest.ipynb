{
  "cells": [
    {
      "cell_type": "code",
      "execution_count": 1,
      "metadata": {
        "id": "QPf-N8XO__h8"
      },
      "outputs": [],
      "source": [
        "# Creating Spark Context\n",
        "from pyspark import SparkContext\n",
        "sc = SparkContext(\"local\", \"first app\")"
      ]
    },
    {
      "cell_type": "code",
      "execution_count": 2,
      "metadata": {
        "id": "vOu7_i6lC4Of"
      },
      "outputs": [],
      "source": [
        "# Calculating words count\n",
        "text_file = sc.textFile(\"OneSentence.txt\")\n",
        "counts = text_file.flatMap(lambda line: line.split(\" \")) \\\n",
        "             .map(lambda word: (word, 1)) \\\n",
        "             .reduceByKey(lambda a, b: a + b)"
      ]
    },
    {
      "cell_type": "code",
      "execution_count": 3,
      "metadata": {
        "colab": {
          "base_uri": "https://localhost:8080/"
        },
        "id": "bjVQRNX2EMG1",
        "outputId": "086b41e5-0af7-4a34-a992-245321f87278"
      },
      "outputs": [
        {
          "name": "stdout",
          "output_type": "stream",
          "text": [
            "This: 1\n",
            "is: 1\n",
            "a: 1\n",
            "simple: 1\n",
            "file: 1\n",
            "used: 1\n",
            "to: 1\n",
            "test: 1\n",
            "pyspark: 1\n",
            "Please: 1\n",
            "work: 1\n",
            "You: 1\n",
            "will: 1\n",
            "make: 1\n",
            "my: 1\n",
            "life: 1\n",
            "easier: 1\n"
          ]
        }
      ],
      "source": [
        "# Printing each word with its respective count\n",
        "output = counts.collect()\n",
        "for (word, count) in output:\n",
        "    print(\"%s: %i\" % (word, count))"
      ]
    },
    {
      "cell_type": "code",
      "execution_count": 4,
      "metadata": {
        "id": "Hh3eauHiERQJ"
      },
      "outputs": [],
      "source": [
        "# Stopping Spark Context\n",
        "sc.stop()"
      ]
    }
  ],
  "metadata": {
    "colab": {
      "name": "sparktest.ipynb",
      "provenance": []
    },
    "kernelspec": {
      "display_name": "Python 3",
      "name": "python3"
    },
    "language_info": {
      "name": "python"
    }
  },
  "nbformat": 4,
  "nbformat_minor": 0
}
